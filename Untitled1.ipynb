{
 "cells": [
  {
   "cell_type": "code",
   "execution_count": 10,
   "id": "cea56440-482a-4894-951e-3f174bc4872a",
   "metadata": {},
   "outputs": [
    {
     "data": {
      "text/plain": [
       "[('int( AnzahlPraxen/ 2)', 'Polio'),\n",
       " ('int( AnzahlPraxen/ 2)', 'Covid 19'),\n",
       " ('int( AnzahlPraxen/ 2)', 'Tetanus'),\n",
       " ('int( AnzahlPraxen/ 2)', 'Aids'),\n",
       " ('-1', 'Polio'),\n",
       " ('-1', 'Covid 19'),\n",
       " ('-1', 'Tetanus'),\n",
       " ('-1', 'Aids'),\n",
       " ('AnzahlPraxen + 1', 'Polio'),\n",
       " ('AnzahlPraxen + 1', 'Covid 19'),\n",
       " ('AnzahlPraxen + 1', 'Tetanus'),\n",
       " ('AnzahlPraxen + 1', 'Aids')]"
      ]
     },
     "execution_count": 10,
     "metadata": {},
     "output_type": "execute_result"
    }
   ],
   "source": [
    "import itertools \n",
    "a=[\"int( AnzahlPraxen/ 2)\",\"-1\",\"AnzahlPraxen + 1\"]\n",
    "b=[\"Polio\",\"Covid 19\",\"Tetanus\",\"Aids\"]\n",
    "c=[\"True\",\"False\"]\n",
    "list(itertools.product(a, b))"
   ]
  },
  {
   "cell_type": "code",
   "execution_count": 11,
   "id": "fe07d731-0cb3-41a4-868d-92b7a911ecad",
   "metadata": {},
   "outputs": [
    {
     "data": {
      "text/plain": [
       "[('Polio', 'True'),\n",
       " ('Polio', 'False'),\n",
       " ('Covid 19', 'True'),\n",
       " ('Covid 19', 'False'),\n",
       " ('Tetanus', 'True'),\n",
       " ('Tetanus', 'False'),\n",
       " ('Aids', 'True'),\n",
       " ('Aids', 'False')]"
      ]
     },
     "execution_count": 11,
     "metadata": {},
     "output_type": "execute_result"
    }
   ],
   "source": [
    "list(itertools.product(b, c))"
   ]
  },
  {
   "cell_type": "code",
   "execution_count": null,
   "id": "984fe929-f46a-4486-886b-666f88798343",
   "metadata": {},
   "outputs": [],
   "source": []
  }
 ],
 "metadata": {
  "kernelspec": {
   "display_name": "Python 3",
   "language": "python",
   "name": "python3"
  },
  "language_info": {
   "codemirror_mode": {
    "name": "ipython",
    "version": 3
   },
   "file_extension": ".py",
   "mimetype": "text/x-python",
   "name": "python",
   "nbconvert_exporter": "python",
   "pygments_lexer": "ipython3",
   "version": "3.9.2"
  }
 },
 "nbformat": 4,
 "nbformat_minor": 5
}
