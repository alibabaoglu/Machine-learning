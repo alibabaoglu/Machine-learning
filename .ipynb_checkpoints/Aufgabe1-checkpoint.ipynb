{
 "cells": [
  {
   "cell_type": "code",
   "execution_count": 3,
   "id": "c9f108d1",
   "metadata": {},
   "outputs": [],
   "source": [
    "import numpy as np \n",
    "import matplotlib.pyplot as plt\n",
    "import matplotlib.gridspec as gridspec\n",
    "\n",
    "# GNN AUFGABE 1\n",
    "# Ali Babaoglu 1827133"
   ]
  },
  {
   "cell_type": "code",
   "execution_count": 4,
   "id": "7fab7cef",
   "metadata": {
    "tags": []
   },
   "outputs": [],
   "source": [
    "# Define parameters\n",
    "START_VALUES = np.array([-7, -0.2, 8]) # Inital Conditions\n",
    "h = 0.01 # Step Size \n",
    "t= np.arange(0, 10 + h, h) # Numerical grid\n",
    "f = lambda dt, x : (x - x**3) # ODE"
   ]
  },
  {
   "cell_type": "code",
   "execution_count": 5,
   "id": "b4249de4",
   "metadata": {},
   "outputs": [],
   "source": [
    "\n",
    "def euler(x, h, f, t):\n",
    "    \"\"\"\n",
    "    Applies the Euler method to solve a differential equation.   \n",
    "    \n",
    "    Parameters:\n",
    "    x (int/float): Start condition\n",
    "    h (float): Step Size\n",
    "    f (function): Differential equation\n",
    "    t (function): bound\n",
    "    \n",
    "    Returns:\n",
    "    an array with all x values under the given start condition\n",
    "    \"\"\"\n",
    "    res= np.array([x])\n",
    "    for i in range(0, len(t)-1):\n",
    "        x= x + h* f(t[i], x)\n",
    "        res= np.append(res, x)\n",
    "    return res\n",
    "    \n",
    "    "
   ]
  },
  {
   "cell_type": "code",
   "execution_count": 6,
   "id": "d79aace8",
   "metadata": {},
   "outputs": [
    {
     "data": {
      "image/png": "[encoded data removed]",
      "text/plain": [
       "<Figure size 864x432 with 3 Axes>"
      ]
     },
     "metadata": {
      "needs_background": "light"
     },
     "output_type": "display_data"
    }
   ],
   "source": [
    "\n",
    "values=[]\n",
    "for i in START_VALUES:\n",
    "    values.append(euler(i, h, f, t))\n",
    "\n",
    "gs = gridspec.GridSpec(2, 2)\n",
    "fig = plt.figure(figsize=(12, 6))\n",
    "ax = fig.add_subplot(gs[0, 0]) # row 0, col 0\n",
    "ax.set_title(\"x0= -7\")\n",
    "ax.set(xlabel='t', ylabel='f(x)')\n",
    "ax.plot(t, values[0], 'tab:orange')\n",
    "\n",
    "ax = fig.add_subplot(gs[0, 1]) # row 0, col 1\n",
    "ax.set_title(\"x0= -0.2\")\n",
    "ax.set(xlabel='t', ylabel='f(x)')\n",
    "ax.plot(t, values[1],'tab:green')\n",
    "\n",
    "ax = fig.add_subplot(gs[1, :]) # row 1, span all columns\n",
    "ax.set_title(\"x0= 8\")\n",
    "ax.set(xlabel='t', ylabel='f(x)')\n",
    "ax.plot(t, values[2], 'tab:red')\n",
    "\n",
    "plt.show()\n",
    "\n",
    "# x=-7 , x=-0.2 stable fixpoint at -1 and x=8 stable fixpoint at 1\n",
    "#function  runs into an attractor at 1 or -1\n"
   ]
  },
  {
   "cell_type": "markdown",
   "id": "d6606574-b7b7-4b56-84c4-9e1ade5fe8b6",
   "metadata": {},
   "source": [
    "# x=-7 , x=-0.2 stable fixpoint at -1 and x=8 stable fixpoint at 1\n",
    "# function  runs into an attractor at 1 or -1\n"
   ]
  }
 ],
 "metadata": {
  "kernelspec": {
   "display_name": "Python 3",
   "language": "python",
   "name": "python3"
  },
  "language_info": {
   "codemirror_mode": {
    "name": "ipython",
    "version": 3
   },
   "file_extension": ".py",
   "mimetype": "text/x-python",
   "name": "python",
   "nbconvert_exporter": "python",
   "pygments_lexer": "ipython3",
   "version": "3.9.2"
  }
 },
 "nbformat": 4,
 "nbformat_minor": 5
}
